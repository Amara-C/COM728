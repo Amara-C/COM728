{
 "cells": [
  {
   "cell_type": "code",
   "execution_count": null,
   "id": "30157618",
   "metadata": {},
   "outputs": [],
   "source": [
    "import os\n",
    "import process\n",
    "import tui\n",
    "\n",
    "\n",
    "def run_csv():\n",
    "    file_name = input(\"Enter the file name: \")\n",
    "    loaded_csv = process.load_csv_file()\n",
    "    return loaded_csv\n",
    "    \n",
    "\n",
    "def run_pd():\n",
    "    file_name = input(\"Enter the file name: \")\n",
    "    loaded_pd = process.load_pd()\n",
    "    return loaded_pd\n",
    "    \n",
    "\n",
    "def started():\n",
    "    tui.started()\n",
    "    try:\n",
    "        tui.show_menu()\n",
    "        if tui.selection ==1:\n",
    "            return loaded_csv\n",
    "        while true:\n",
    "            tui.show_csv_menu()\n",
    "            \n",
    "            \n",
    "            \n",
    "#         os.system('cls' if os.name == 'nt' else 'clear')\n",
    "#         tui.clear_console()\n",
    "#         tui.started(\"Welcome to the Airbnb 2022 data analysis\")\n",
    "        \n",
    "#         # Ask user to enter file path\n",
    "#         tui.ask_input()\n",
    "#         # Load the file\n",
    "#         tui.show_info()\n",
    "#         # Add your code here to load the file\n",
    "#         tui.completed()\n",
    "#     except Exception as e:\n",
    "#         tui.error(str(e))\n",
    "#     finally:\n",
    "#         tui.press_enter_to_continue()\n",
    "if __name__ == \"__main__\":\n",
    "    run()\n"
   ]
  },
  {
   "cell_type": "code",
   "execution_count": null,
   "id": "f561d1b9",
   "metadata": {},
   "outputs": [],
   "source": [
    "import tui\n",
    "def begin():\n",
    "    tui.welcome()"
   ]
  },
  {
   "cell_type": "code",
   "execution_count": null,
   "id": "c735919c",
   "metadata": {},
   "outputs": [],
   "source": [
    "LINE_WIDTH = 85\n",
    "def welcome(msg=\"Welcome to my coded codes\"):\n",
    "    output = f\"Operation started: {msg}...\"\n",
    "    dashes = \"=\" * LINE_WIDTH\n",
    "    print(f\"{dashes}\\n{output}\\n\")\n",
    "    \n",
    "welcome()"
   ]
  },
  {
   "cell_type": "code",
   "execution_count": null,
   "id": "af71b97f",
   "metadata": {},
   "outputs": [
    {
     "name": "stdout",
     "output_type": "stream",
     "text": [
      "=====================================================================================\n",
      "Operation started: Welcome to coded codes...\n",
      "\n",
      "Enter the file name: Airbnb_UK_2022.csv\n"
     ]
    },
    {
     "name": "stderr",
     "output_type": "stream",
     "text": [
      "IOPub data rate exceeded.\n",
      "The notebook server will temporarily stop sending output\n",
      "to the client in order to avoid crashing it.\n",
      "To change this limit, set the config variable\n",
      "`--NotebookApp.iopub_data_rate_limit`.\n",
      "\n",
      "Current values:\n",
      "NotebookApp.iopub_data_rate_limit=1000000.0 (bytes/sec)\n",
      "NotebookApp.rate_limit_window=3.0 (secs)\n",
      "\n"
     ]
    }
   ],
   "source": [
    "import tui\n",
    "import os\n",
    "import process\n",
    "\n",
    "\n",
    "def run_csv():\n",
    "    file_name = input(\"Enter the file name: \")\n",
    "    loaded_csv = process.load_csv_file()\n",
    "    return loaded_csv\n",
    "\n",
    "    \n",
    "\n",
    "LINE_WIDTH = 85\n",
    "tui.welcome()\n",
    "tui.show_menu()\n",
    "\n",
    "\n",
    "\n",
    "\n",
    "    \n",
    "    "
   ]
  },
  {
   "cell_type": "code",
   "execution_count": null,
   "id": "573a79b1",
   "metadata": {},
   "outputs": [],
   "source": [
    "import csv\n",
    "import os\n",
    "# Define the load csv file function\n",
    "def load_csv_file():\n",
    "    # Prompt user to enter file name without adding .csv\n",
    "    file_name = input(\"Enter the file name: \")\n",
    "    file_path = 'Airbnb/' \n",
    "    \n",
    "    file_path = os.path.join(file_path, file_name)\n",
    "    # Check if file exists\n",
    "    if not os.path.isfile(file_path):\n",
    "        print(\"File not found, please enter the correct file name\")\n",
    "    else:\n",
    "        print(f\"successfully loaded {file_name} \")\n",
    "        \n",
    "        try:\n",
    "\n",
    "            # Load data from CSV file into memory\n",
    "            with open(file_path, \"r\", encoding=\"utf-8\") as csvfile:\n",
    "                csv.reader(csvfile)\n",
    "                # Return the file name if it is found\n",
    "                return file_path\n",
    "\n",
    "        #     print the try except block error message\n",
    "        except IOError:\n",
    "            print(\"Error reading file\")\n",
    "    # Call the load csv file function and store the result in the file_name variable\n",
    "file_name =load_csv_file()\n"
   ]
  },
  {
   "cell_type": "code",
   "execution_count": null,
   "id": "fefb0b85",
   "metadata": {},
   "outputs": [],
   "source": []
  }
 ],
 "metadata": {
  "kernelspec": {
   "display_name": "Python 3 (ipykernel)",
   "language": "python",
   "name": "python3"
  },
  "language_info": {
   "codemirror_mode": {
    "name": "ipython",
    "version": 3
   },
   "file_extension": ".py",
   "mimetype": "text/x-python",
   "name": "python",
   "nbconvert_exporter": "python",
   "pygments_lexer": "ipython3",
   "version": "3.9.13"
  }
 },
 "nbformat": 4,
 "nbformat_minor": 5
}
